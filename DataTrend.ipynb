{
 "cells": [
  {
   "cell_type": "code",
   "execution_count": null,
   "metadata": {},
   "outputs": [],
   "source": [
    "#No 1 Data Trend\n",
    "import numpy as np;\n",
    "import pandas as pd;\n",
    "import matplotlib.pyplot as plt;\n",
    "\n",
    "#Taking data from xlsx and transposing\n",
    "data = pd.read_excel('production.xlsx');\n",
    "data = data.T\n",
    "data.columns = ['Total Production']\n",
    "\n",
    "#Polynomial regression\n",
    "x = np.arange(len(data));\n",
    "y = data['Total Production'].values\n",
    "degree = 3;\n",
    "coef = np.polyfit(x, y, degree);\n",
    "polynom = np.poly1d(coef);\n",
    "\n",
    "#Ploting\n",
    "x_polyn = np.linspace(0, len(data) - 1, 100);\n",
    "y_polyn = polynom(x_polyn);\n",
    "\n",
    "plt.figure(figsize=(15,8));\n",
    "plt.plot(data.index, data['Total Production'], 'o', label = 'Total Production');\n",
    "plt.plot(data.index, polynom(x), '-', label = f'Polynomial Trend (degree {degree})');\n",
    "\n",
    "plt.xlabel('Type');\n",
    "plt.ylabel('Total Production');\n",
    "plt.title('Total Production by Type for One Month');\n",
    "plt.xticks(rotation=90);\n",
    "plt.show()\n"
   ]
  },
  {
   "cell_type": "code",
   "execution_count": null,
   "metadata": {},
   "outputs": [],
   "source": []
  }
 ],
 "metadata": {
  "language_info": {
   "name": "python"
  }
 },
 "nbformat": 4,
 "nbformat_minor": 2
}
